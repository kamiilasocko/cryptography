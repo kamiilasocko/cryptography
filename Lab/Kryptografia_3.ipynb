{
  "cells": [
    {
      "cell_type": "markdown",
      "metadata": {
        "id": "O4N_EaD6qK27"
      },
      "source": [
        "# RSA\n",
        "\n",
        "Rivest Shamir Adleman (RSA) jest jednym z pierwszych algorytmów asymetrycznych. Został zaprojektowany w 1977 roku i jest używany do dzisiejszego dnia. Zyskał akceptację zarówno NISTu jak i organizacji ISO/IEC oraz RFC. RSA posiada parę kluczy - publiczny oraz prywatny. Publiczny klucz może być znany każdemu i służy on do operacji szyfrowania. Klucz prywatny jest znany tylko i wyłącznie instancji, która klucze generowała. Ta sama instancja jako jedna jedyna ma możliwość odszyfrowania kryptogramów.\n",
        "\n",
        "RSA umożliwia także tworzenie podpisów cyfrowych (z ang *Digital Signatures*, czyli *DS*). Podpis cyfrowy to dodatkowy blok informacji dołączony do wiadomości, który zapewnia:\n",
        "1. *Integrity* - integralność wiadomości, czyli potwierdzenie, że nie była ona w żaden sposób modyfikowana.\n",
        "2. *Authentication* - autentykacje podpisującego, czyli potwierdzenie jego tożsamości.\n",
        "3. *Non-repudiation* - czyli wysyłający podpisaną wiadomość nie ma możliwości zaprzeczenia faktu, że to on ją podpisał, natomiast otrzymujący wiadomość nie ma możliwości zaprzeczenia faktu, iż to on ją zweryfikował. \n",
        "\n",
        "Samo haszowanie wiadomości zapewnia tylko *integirty*, natomiast utworzenie kodu MAC (*Message Authentiaction Code*) zapewnia jedynie *integrity* oraz *authentiaction*.\n",
        "\n",
        "Tworzenie podpisu cyfrowego z wykorzystaniem RSA wygląda odwrotnie niż komunikacja szyfrowana. To znaczy: podpis tworzony jest z wykorzystaniem klucza prywatnego - a więc tylko instancja generująca klucze może wiadomość podpisać. Weryfikacja odbywa się z wykorzystaniem klucza publicznego - czyli każda instancja, której nasz klucz udostępnimy, może podpis zweryfikować. \n",
        "\n",
        "Na początek zaimportujmy niezbędne biblioteki."
      ]
    },
    {
      "cell_type": "code",
      "execution_count": 203,
      "metadata": {
        "id": "F7OxWY2Mz7BD"
      },
      "outputs": [
        {
          "name": "stdout",
          "output_type": "stream",
          "text": [
            "Requirement already satisfied: pycryptodome in c:\\users\\kamil\\anaconda3\\lib\\site-packages (3.17)\n"
          ]
        }
      ],
      "source": [
        "!pip install pycryptodome\n",
        "import Crypto.Util.number as cu\n",
        "import hashlib as hl\n",
        "import math"
      ]
    },
    {
      "attachments": {},
      "cell_type": "markdown",
      "metadata": {
        "id": "64vuvjiEuP3M"
      },
      "source": [
        "**Zadanie 1**\n",
        "\n",
        "Odpowiedz na poniższe pytania. Rozważ sytuację, w której dwie instancje komunikują się ze sobą, a trzecia próbuje dokonywać nieautoryzowanych zmian w treści wiadomości na drodze jej przesyłu.\n",
        "1. Dlaczego haszowanie zapewnia tylko integrity? Podpowiedź: czy haszowanie uwzględnia jakikolwiek klucz prywatny? \n",
        "\n",
        "Haszowanie samo w sobie nie uwzględnia kluczu prywatnego ani publicznego, jest to tak naprawdę przekształcenie danych wejściowych na stałej długości wyjściowej(skrót). Nie potwierdza, że dane te pochodzą od określonego nadawcy. Hasz może zostać obliczony przez każdego, kto zna dane wejściowe, więc nie ma sposobu na potwierdzenie, że nadawca faktycznie przesłał te dane.\n",
        "\n",
        "2. Dlaczego kod MAC nie zapewnia *non-repudiation*? Co (niepożądanego) może dokonać odbierający wiadomość i atakujący komunikację? Podpowiedź: czy kody MAC, w szczególności popularny kod HMAC - który zakłada użycie klucza prywatnego - w jakikolwiek sposób weryfikuje KTO i DO CZEGO go użył? Kto dysponuje, a kto NIE dysponuje kluczem prywatnym HMAC?\n",
        "\n",
        "Kody MAC, w szczególności popularny HMAC, nie weryfikują, kto i do czego użył klucza prywatnego. Klucz prywatny HMAC jest znany tylko nadawcy i odbiorcy, co oznacza, że tylko te osoby mają wiedzę na temat jego wykorzystania. Jeśli odbiorca lub atakujący zdobędzie klucz prywatny HMAC, może wykorzystać go do wygenerowania fałszywego kodu MAC i podszyć się pod nadawcę, bez możliwości jednoznacznego przypisania nadawcy do wiadomości.\n",
        "\n",
        "3. Dlaczego podpis cyfrowy zapewnia wszystkie te trzy cechy?\n",
        "\n",
        "* Integralność oznacza, że podpis cyfrowy gwarantuje, że wiadomość nie została zmieniona w trakcie przesyłania. Podpis cyfrowy jest generowany na podstawie całej treści wiadomości oraz klucza prywatnego nadawcy, a odbiorca używa klucza publicznego nadawcy do weryfikacji, czy podpis cyfrowy jest poprawny. Jeśli podpis cyfrowy jest poprawny, odbiorca może mieć pewność, że treść wiadomości nie została zmieniona w trakcie przesyłania.\n",
        "\n",
        "* Autentyczność oznacza, że podpis cyfrowy gwarantuje, że wiadomość została wysłana przez rzeczywistego nadawcę. Podpis cyfrowy jest generowany przy użyciu klucza prywatnego nadawcy, co oznacza, że tylko nadawca może wygenerować prawidłowy podpis. Odbiorca używa klucza publicznego nadawcy do weryfikacji podpisu, a jeśli podpis jest poprawny, odbiorca wie, że wiadomość została wysłana przez rzeczywistego nadawcę.\n",
        "\n",
        "* Non-repudiation oznacza, że podpis cyfrowy uniemożliwia nadawcy zaprzeczenie, że wysłał daną wiadomość. Ponieważ podpis cyfrowy jest generowany przy użyciu klucza prywatnego nadawcy, tylko nadawca może go wygenerować. Odbiorca używa klucza publicznego nadawcy do weryfikacji podpisu, co pozwala jednoznacznie przypisać wiadomość do nadawcy. W ten sposób nadawca nie może zaprzeczyć, że wysłał daną wiadomość."
      ]
    },
    {
      "cell_type": "markdown",
      "metadata": {
        "id": "2qE7Uzp2xXKM"
      },
      "source": [
        "## Generowanie kluczy\n",
        "\n",
        "Algorytm generowania kluczy RSA może zostać przedstawiony w następujący sposób:\n",
        "\n",
        "1) Znajdź dwie różne i kryptograficznie bezpieczne liczby pierwsze.\n",
        "\n",
        "2) Oblicz $n = p * q$.\n",
        "\n",
        "3) Oblicz $f = (p - 1) * (q - 1)$.\n",
        "\n",
        "4) Znajdź dowolne $e$, takie, że $1 < e < f$ oraz $GCD(f, e) = 1$. GCD to największy wspólny dzielnik. Para $(e, n)$ to jest **klucz publiczny**.\n",
        "\n",
        "5) Oblicz $d = e^{-1}$ mod $f$. Para $(d, n)$ to **klucz prywatny**, przy czym tajne jest tylko $d$. "
      ]
    },
    {
      "cell_type": "markdown",
      "metadata": {
        "id": "1MRcuBhC0UHA"
      },
      "source": [
        "W ten sposób generowane parametry byłyby matematycznie poprawne, lecz kryptograficznie niebezpieczne. Ustalmy więc, że chcemy aby nasz klucz publiczny był odpwowiednio długi. Będzie to długość bitowa parametru $n$, oznaczmy ją jako $nlen = 2048$. Parametr $nlen$ zawsze przyjmuje parzyste wartości. Mając to założenie, musimy (**uwzględniając wszystkie założenia z algorytmu generowania kluczy**) dodatkowo zapewnić, że:\n",
        "\n",
        "1. $65537 ≤ e < 2^{256}$\n",
        "2. $LCM(p - 1, q - 1) \\geq e * 2^{nlen/2}$\n",
        "3. $2^{(nlen - 1)//2} < p < 2^{nlen/2}$\n",
        "4. $2^{(nlen - 1)//2} < q < 2^{nlen/2}$\n",
        "5. $|p - q| > 2^{(nlen/2) - 100}$\n",
        "\n",
        "Gdzie LCM oznacza *Least Common Multiple*, czyli najmniejszą wspólną wielokrotność. Funkcję LCM znajdziesz w bibliotece math. Do potęgowania **nie używaj** pythonowej notacji \"**\", tylko metody pow() - przetestuj obie te metody obliczania potęgi i porównaj wydajność (zadanie opcjonalne). Do obliczania wartości bezwzględnej użyj metody abs() - również standardowa metoda pythona. Resztę niezbędnych metod znajdziesz w bibliotece [Crypto.Util.number](https://pycryptodome.readthedocs.io/en/latest/src/util/util.html) zaimpoertowanej jako cu. Opis powyższych założeń możesz znaleźć w [tym](https://nvlpubs.nist.gov/nistpubs/SpecialPublications/NIST.SP.800-56Br2.pdf) dokumencie NIST-owym."
      ]
    },
    {
      "cell_type": "markdown",
      "metadata": {
        "id": "5inlXTklGGMv"
      },
      "source": [
        "**Zadanie 2**\n",
        "\n",
        "Uwzględniając wszystko powyższe, napisz metodę/metody generujące wartości $n$, $e$ oraz $d$."
      ]
    },
    {
      "cell_type": "code",
      "execution_count": 204,
      "metadata": {
        "id": "tRiOWsS7GRL9"
      },
      "outputs": [
        {
          "name": "stdout",
          "output_type": "stream",
          "text": [
            "Klucz prywatny (d,n)\n",
            "d=3513730082479551140237288908531176085907896597770546757844003884535189915460694868676314938956978798847274240231196220503583595798024952930084143093887772611299681503231840855429946290338249116330250649914060113724999349900659150558434117008149549648919438312873706577117968556280118481988921235567116658335457869960147723128448109723261206967177994963731033899207492898698903238015808267016409542697895493033646347781298188059322687767454754784376032132271996950797838808736070413447541599254625893950393933371132252342904227544633363227444800443793935770303217250121296234879866731221336579827238721290296669440957\n",
            "n=21609298734859331132328634752682041309227402575279369011206820369089436857776014810142934376101000820383511445751146849653590223110687455579770330359266020750080021969945207471755535982659889596511101687914895538341815459741419784307185547195139430829384082009524428491463000507764049897085691910251112945273809963922530952009328188287551187463531026221344052836255501319921363319845355432370936804244953817253171413431408076852128707867658547868147910286258992549081339686271298186210364462447204880378722778644511386531920387018185038195319211845729219052834942461119440116582946701656808060494225499582236600891853\n",
            "Klucz publiczny (p,q)\n",
            "e=3463896706528178435345922650855659980228362610242773509631002314941516852437\n",
            "n=21609298734859331132328634752682041309227402575279369011206820369089436857776014810142934376101000820383511445751146849653590223110687455579770330359266020750080021969945207471755535982659889596511101687914895538341815459741419784307185547195139430829384082009524428491463000507764049897085691910251112945273809963922530952009328188287551187463531026221344052836255501319921363319845355432370936804244953817253171413431408076852128707867658547868147910286258992549081339686271298186210364462447204880378722778644511386531920387018185038195319211845729219052834942461119440116582946701656808060494225499582236600891853 \n"
          ]
        }
      ],
      "source": [
        "nlen = 2048\n",
        "\n",
        "def generate_nums() :\n",
        "    #stałe\n",
        "    con = 65537\n",
        "    N = 256\n",
        "    \n",
        "    a = pow(2,N)\n",
        "    b = pow(2, nlen//2)\n",
        "    c = pow(2, (nlen - 1)//2)\n",
        "    d = pow(2, nlen//2 - 100)\n",
        "   \n",
        "\n",
        "    #krok 1 \n",
        "    #warunek 3,4,5\n",
        "    while True :\n",
        "        p, q = cu.getStrongPrime(nlen//2), cu.getStrongPrime(nlen//2)\n",
        "        if ( c<p ) & ( p<b ) & ( c<q ) &  ( q<b ) & (abs(p-q) > d) :\n",
        "            break\n",
        "    \n",
        "    #krok 2 i 3\n",
        "    n = p * q\n",
        "    f = (p - 1) * (q - 1)\n",
        "\n",
        "    #krok 4\n",
        "    #warunek 1,2 \n",
        "    while True :\n",
        "        e = cu.getRandomRange(65537, min(f, a))\n",
        "        if ( cu.GCD(f,e) == 1) & (e < f) & (math.lcm(p-1, q-1) >= e*b ):\n",
        "            break\n",
        "    \n",
        "    #krok 5\n",
        "    d = cu.inverse(e, f)\n",
        "\n",
        "    return d, n, e\n",
        "\n",
        "d, n, e = generate_nums()\n",
        "\n",
        "print(f\"\"\"Klucz prywatny (d,n)\\nd={d}\\nn={n}\\nKlucz publiczny (p,q)\\ne={e}\\nn={n} \"\"\")\n"
      ]
    },
    {
      "cell_type": "markdown",
      "metadata": {
        "id": "wae-whoNGlz_"
      },
      "source": [
        "## Naiwne szyfrowanie i deszyfrowanie"
      ]
    },
    {
      "cell_type": "markdown",
      "metadata": {
        "id": "fESNrzCYNVfy"
      },
      "source": [
        "\n",
        "Naiwny algorytm szyfrowania wiadomości **M** z wykorzystaniem RSA:\n",
        "\n",
        "1) Zakoduj $M$ jako liczbę.\n",
        "\n",
        "2) Oblicz: $C = M^e$ mod $n$."
      ]
    },
    {
      "cell_type": "markdown",
      "metadata": {
        "id": "FQvVgWWrHBX2"
      },
      "source": [
        "Naiwny algorytm deszyfrowania kryptogramu **C** z wykorzystaniem RSA:\n",
        "\n",
        "1) $M = C^d$ mod $n$.\n",
        "\n",
        "2) Zdekoduj wiadomość $M$ do jej pierwotnej postaci (np. stringa). \n"
      ]
    },
    {
      "cell_type": "markdown",
      "metadata": {
        "id": "mFRFP0BsHc9l"
      },
      "source": [
        "**Zadanie 3**\n",
        "\n",
        "Napisz metody szyfrujące i deszyfrujące wiadomość $M$ zgodnie z powyższym algorytmem. Zaszyfruj wiadomość, zdeszyfruj i wypisz oryginalny tekst na ekranie. Odpowiedz na pytanie: jaki warunek musi spełniać liczbowa reprezentacja wiadomości $M$, aby można ją było poprawnie zaszyfrować i zdeszyfrować?"
      ]
    },
    {
      "cell_type": "code",
      "execution_count": 205,
      "metadata": {
        "id": "N3y7NMf_HkuB"
      },
      "outputs": [
        {
          "name": "stdout",
          "output_type": "stream",
          "text": [
            "b\"%\\xd0\\xd4\\xe3\\x13/\\xebB\\xa7\\x13\\xc90\\\\\\x02\\xd9\\xcc\\xa3\\xd0q\\xbf$\\xab\\xefs&\\xed\\x90\\xec\\xcd\\r\\xd4\\xcd\\xb3\\xb0\\x02X\\xa0%\\x9eH*z}\\x0e\\xca\\xa8g\\x11\\xf9\\xe3_\\xa3&\\x10`W\\x03M\\x8b\\xd4%\\xcc\\x19^%\\xf7\\x86E\\x0eg\\xc7\\x93\\x84M\\x81\\x11\\xbd5\\xd2Y\\xe6~\\xcek\\xa3\\xd0\\xba\\x15\\xc0\\xd9&\\x82^\\xb4%\\xff\\xb7\\xa4\\xc3\\xcb\\x85\\xac\\x9e9U\\x91t\\xed\\x19\\x0e\\xd4\\xc1\\xa3\\xe0\\xe2\\x0b\\x846\\xeb\\x8fi\\xc6N3\\xd8n\\xd8w\\xfd^\\xb7\\xf2\\xc4P\\x99\\x14\\xca\\x91)\\xe9H\\xbe\\x929\\xce\\x88\\xecz\\xe72OX\\xcb]\\x08\\x14\\xf1M[\\r\\xcf\\r.O\\x89\\x1c\\x10\\xa0\\xfb7\\x05\\xc2\\x99\\x94N\\xf5\\xa5\\x9d\\x0bJ\\xb4\\x02 \\xa1!\\xf3D\\xd2:\\xfcv\\xe4\\xc3\\x94\\xaa\\xdaI7\\xba\\xe4$]3z\\xa4\\x0e\\x9c=\\xc4k\\xbbc&vlb\\xe2\\x87\\\\Z<J\\x97'\\x17\\xe6g\\xea\\x19_B\\x81nc)\\x92\\x9e\\xb6G\\xfb\\x04\\xbc\\x99\\x8cQ\\xdbn@`W\\xc7\\xb8\\x0b\\x7f\\xb4\\xbd\"\n"
          ]
        }
      ],
      "source": [
        "d, n, e = generate_nums()\n",
        "\n",
        "def encrypte(m) :\n",
        "    #krok 1\n",
        "    mBytes = m.encode(\"utf-8\")\n",
        "    mInt = int.from_bytes(mBytes, byteorder='big')\n",
        "    #krok 2\n",
        "    C = pow(mInt,e,n)\n",
        "    return C.to_bytes(math.ceil(C.bit_length() / 8), byteorder='big')\n",
        "\n",
        "M = \"Ala ma kota\"\n",
        "C = encrypte(M)\n",
        "print(C)"
      ]
    },
    {
      "cell_type": "code",
      "execution_count": 206,
      "metadata": {},
      "outputs": [
        {
          "data": {
            "text/plain": [
              "'Ala ma kota'"
            ]
          },
          "execution_count": 206,
          "metadata": {},
          "output_type": "execute_result"
        }
      ],
      "source": [
        "def decrypte(c) :\n",
        "    #krok 1\n",
        "    M = pow(int.from_bytes(c, byteorder='big'),d,n)\n",
        "    #krok 2\n",
        "    mBytes = M.to_bytes((M.bit_length() + 7) // 8, byteorder=\"big\")#zamiana intow na bajty, gdzie 1 bajt=8bitow\n",
        "    m = mBytes.decode(\"utf-8\")\n",
        "    return m\n",
        "decrypte(C)"
      ]
    },
    {
      "attachments": {},
      "cell_type": "markdown",
      "metadata": {},
      "source": [
        "Dodawanie 7 jest używane, aby zapewnić poprawne zaokrąglenie. Np. jeśli liczba bitów, które muszą zostać zapisane, to 10 to jeśli podzielimy tę wartość przez 8, to otrzymamy 1 bajt i resztę, która wynosi 2 bity. Bez dodania wartości 7, zaokrąglilibyśmy wynik do 1 bajtu, co spowodowałoby utratę 2 bitów. Dodając 7, uzyskujemy 17, co dzieląc przez 8 bez reszty daje nam 2 bajty. W ten sposób zapewniamy, że nie tracimy żadnych bitów."
      ]
    },
    {
      "cell_type": "code",
      "execution_count": 207,
      "metadata": {},
      "outputs": [
        {
          "name": "stdout",
          "output_type": "stream",
          "text": [
            "Ala ma kota\n"
          ]
        }
      ],
      "source": [
        "#drugi sposób za pomocą wbudowanych funkcji\n",
        "m = cu.bytes_to_long(M.encode())\n",
        "\n",
        "c = pow(m, e, n)\n",
        "m = pow(c, d, n)\n",
        "\n",
        "m = cu.long_to_bytes(m).decode(\"utf-8\")\n",
        "print(m)"
      ]
    },
    {
      "cell_type": "markdown",
      "metadata": {
        "id": "NjF8Fr_dN0s6"
      },
      "source": [
        "## Naiwny schemat podpisu cyfrowego"
      ]
    },
    {
      "cell_type": "markdown",
      "metadata": {
        "id": "AsvkSf9zN4i8"
      },
      "source": [
        "Naiwna metoda tworzenia podpisu z wiadmości $M$:\n",
        "\n",
        "1) Oblicz $h = H(M)$. H to uzgodniona funkcja skrótu, niech to będzie SHA-256.\n",
        "\n",
        "2) Zakoduj $h$ jako liczbę.\n",
        "\n",
        "3) Oblicz $SIG = h^d$ mod $n$.\n",
        "\n",
        "4) Wyślij parę $(M, SIG)$ weryfikującemu."
      ]
    },
    {
      "cell_type": "markdown",
      "metadata": {
        "id": "xcMiT4DhOoOt"
      },
      "source": [
        "Naiwna metoda weryfikacji podpisu $(M, SIG)$:\n",
        "\n",
        "1) Oblicz $h = H(M)$. H to uzgodniona funkcja skrótu, niech to będzie SHA-256.\n",
        "\n",
        "2) Zakoduj $h$ jako liczbę.\n",
        "\n",
        "3) Oblicz $VER = SIG^e$ mod $n$.\n",
        "\n",
        "4) Jeżeli $VER = h$, weryfikacja przebiegła pomyślnie, a w przeciwnym razie niepomyślnie."
      ]
    },
    {
      "cell_type": "markdown",
      "metadata": {
        "id": "Jx86zFg6PDDs"
      },
      "source": [
        "**Zadanie 4**\n",
        "\n",
        "Zaimplementuj naiwną metodę tworzenia i weryfikowania podpisu cyfrowego RSA."
      ]
    },
    {
      "cell_type": "code",
      "execution_count": 208,
      "metadata": {},
      "outputs": [
        {
          "name": "stdout",
          "output_type": "stream",
          "text": [
            "M = Ala ma kota\n",
            "SIG = 4558049912801924204729666342515598763200690862264645759322552870831622777357985573502233195268522493308615182832859337839316251985036158932119819499842175713893873604446824608850454813853127797911625521031940397275839196348710433163206220800566349455863249094667998172256695512095946497804172366946583840933797002221013891748681530339976835935591660015313573226081519752661580647242713950778697981980936929741698963180271451885762178958563070267147432238151447659080121795704401418222998744905624378866663373863331807132407601316176977481708528161753686473127927714499760248594985974065555159614789519712523727240924\n"
          ]
        }
      ],
      "source": [
        "def create_signature(m) :\n",
        "    h = hl.sha256(m.encode()).digest()\n",
        "    h = cu.bytes_to_long(h)\n",
        "    SIG = pow(h,d,n)\n",
        "    return M, SIG,h\n",
        "\n",
        "M,SIG,h = create_signature(M)\n",
        "print(f\"\"\"M = {M}\\nSIG = {SIG}\"\"\")\n"
      ]
    },
    {
      "cell_type": "code",
      "execution_count": 209,
      "metadata": {},
      "outputs": [
        {
          "name": "stdout",
          "output_type": "stream",
          "text": [
            "Successfull verification\n"
          ]
        }
      ],
      "source": [
        "def verify_signature(SIG,h) :\n",
        "    VER = pow(SIG,e,n)\n",
        "    if VER == h :\n",
        "        print(\"Successfull verification\") \n",
        "    else :\n",
        "        print(\"Verification failed\")\n",
        "\n",
        "M = \"Ala ma kota\"\n",
        "M,SIG,h = create_signature(M)\n",
        "verify_signature(SIG,h)"
      ]
    },
    {
      "cell_type": "code",
      "execution_count": 210,
      "metadata": {
        "id": "Y7OSfmf0PJ2Q"
      },
      "outputs": [
        {
          "name": "stdout",
          "output_type": "stream",
          "text": [
            "Verification failed\n"
          ]
        }
      ],
      "source": [
        "verify_signature(SIG-1,h)"
      ]
    },
    {
      "cell_type": "markdown",
      "metadata": {
        "id": "-6MsXDuaIj2C"
      },
      "source": [
        "## MGF 1\n",
        "\n",
        "W dalszej części laboratoriów będziemy potrzebowali generować maskę. Jedynym zatwierdzonym algorytmem który do tego służy jest *Mask Generation Function 1*, opisany w [RFC 8017](https://www.rfc-editor.org/rfc/rfc8017). Jest on stosunkowo prosty. "
      ]
    },
    {
      "cell_type": "markdown",
      "metadata": {
        "id": "wXuwYrpsJzkU"
      },
      "source": [
        "Parametry wejściowe:\n",
        "\n",
        "1) M - bajty wiadomości.\n",
        "\n",
        "2) len - pożądana długość zwórconej maski w bajtach.\n",
        "\n",
        "3) H - wybrana funkcja skrótu, zwracająca $n$ bitowy skrót. Niech to będzie SHA-256. Dla wygody przyjmijmy też, że $hlen = n / 8$ oznacza liczbę bajtów zwracaną przez naszą funkcję skrótu.\n",
        "\n",
        "Wyjściem funkcji są bajty tworzące maskę."
      ]
    },
    {
      "cell_type": "markdown",
      "metadata": {
        "id": "oriQJLCvJ0vM"
      },
      "source": [
        "Algorytm MGF-1:\n",
        "\n",
        "1) Dla 32-biotwego integera $i = 0, ..., ⌈ \\frac{len}{hlen}⌉ - 1$ wykonuj kroki 2 i 3.\n",
        "\n",
        "2) Oblicz tmp = H(M || i). Znak || to konkatenacja i chodzi tu o bajty wiadomości M oraz reprezentację w bajtach 32-bitowego itegera $i$.\n",
        "\n",
        "3) Oblicz output = output || tmp.\n",
        "\n",
        "4) Zwróc $len$ wiodących bajtów zmiennej output."
      ]
    },
    {
      "cell_type": "markdown",
      "metadata": {
        "id": "o-AkA1mHK7cp"
      },
      "source": [
        "**Zadanie 5**\n",
        "\n",
        "Zaprogramuj i przetestuj dla dowolnych wartości funkcję MGF1."
      ]
    },
    {
      "cell_type": "code",
      "execution_count": 211,
      "metadata": {
        "id": "rrBuKJWZLCV9"
      },
      "outputs": [
        {
          "data": {
            "text/plain": [
              "bytearray(b'\\xc8b\\xdf\\x19\\xd0p\\xf8c\\x1f\\x13\\xc9{\\x96\\xe4\\xfd\\x02\\xa3\\xa7w\\xeb\\x16')"
            ]
          },
          "execution_count": 211,
          "metadata": {},
          "output_type": "execute_result"
        }
      ],
      "source": [
        "hlen = 256 // 8 #256 bitow/8 = 32 bajty\n",
        "\n",
        "def mgf1(m, l) :\n",
        "    if isinstance(m, str):\n",
        "        m = m.encode()\n",
        "\n",
        "    output = bytearray()\n",
        "    for i in range(0, math.ceil(l/hlen)) :\n",
        "        iByte = i.to_bytes(4, byteorder='big')\n",
        "        tmp = hl.sha256(m + iByte).digest()\n",
        "        output += tmp\n",
        "\n",
        "    return output[:l+1]\n",
        "\n",
        "mgf1(b\"gg\", 20)\n"
      ]
    },
    {
      "cell_type": "markdown",
      "metadata": {
        "id": "K3gM9vGyPtna"
      },
      "source": [
        "## OAEP\n",
        "\n",
        "Nasz schemat ma na ten moment jedną sporą wadę, mianowicie rozmiar szyfrowanej wiadomości może być zbyt mały, czyniąc algorytm mniej bezpiecznym. Aby tego uniknąć, używamy algorytmu paddingu opisanego w [RFC 8017](https://www.rfc-editor.org/rfc/rfc8017#section-8), który zwie się *Optimal Assymetric Encryption Padding*."
      ]
    },
    {
      "cell_type": "markdown",
      "metadata": {
        "id": "PFJW4wW5QjjH"
      },
      "source": [
        "### OAEP encoding"
      ]
    },
    {
      "cell_type": "markdown",
      "metadata": {
        "id": "0BTXF8j6Reel"
      },
      "source": [
        "Parametry wejściowe:\n",
        "\n",
        "1) $H$ - funkcja skrótu SHA-256, oraz $hlen$ czyli długość zwracanego skrótu w bajtach.\n",
        "\n",
        "2) $k$ - długość liczby $n$ wyrażona w bajtach.\n",
        "\n",
        "3) $mlen$ - długość wiadomości wyrażona w bajtach.\n",
        "\n",
        "4) $M$ - bajty wiadomości.\n",
        "\n",
        "5) $mgf1$ - Mask Generation Function 1."
      ]
    },
    {
      "cell_type": "markdown",
      "metadata": {
        "id": "YWse9bSFRfmu"
      },
      "source": [
        "Algorytm:\n",
        "\n",
        "1) Jeżeli $mlen > k - 2*hlen - 2$ zwróc błąd.\n",
        "\n",
        "2) Oblicz: $lHash = H(\"\")$.\n",
        "\n",
        "3) Wygeneruj tablicę bajtów $PS$ składającą się z $k - mlen - 2*hlen - 2$ bajtów o wartości 0x00. Rozmiar $PS$ może wynosić 0.\n",
        "\n",
        "4) Oblicz: $DB = lHash || PS || 0x01 || M$. Długość $DB$ powinna wynosić $k - hlen - 1$ bajtów.\n",
        "\n",
        "5) Wygeneruj losową tablicę bajtów $seed$ o rozmiarze $hlen$.\n",
        "\n",
        "6) Oblicz: $dbMask = mgf1(seed, k - hlen - 1)$.\n",
        "\n",
        "7) Oblicz: $maskedDB = DB ⊕ dbMask$.\n",
        "\n",
        "8) Oblicz: $seedMask = mgf1(maskedDB, hlen)$.\n",
        "\n",
        "9) Oblicz: $maskedSeed = seed ⊕ seedMask$.\n",
        "\n",
        "10) Oblicz: $EM = 0x00 || maskedSeed || maskedDB$. Długość $EM$ powinna wynosić $k$.\n",
        "\n",
        "11) Zwróc $EM$."
      ]
    },
    {
      "cell_type": "markdown",
      "metadata": {
        "id": "lwJfZ28SUeKC"
      },
      "source": [
        "### OAEP decoding"
      ]
    },
    {
      "cell_type": "markdown",
      "metadata": {
        "id": "i21JfT9TUlXN"
      },
      "source": [
        "Parametry wejściowe:\n",
        "\n",
        "1) $H$ - funkcja skrótu SHA-256, oraz $hlen$ czyli długość zwracanego skrótu w bajtach.\n",
        "\n",
        "2) $k$ - rozmiar EM wyrażony w bajtach.\n",
        "\n",
        "3) $mgf1$ - Mask Generation Function 1.\n",
        "\n",
        "4) $EM$ - bajty zakodowanej wiadomości."
      ]
    },
    {
      "cell_type": "markdown",
      "metadata": {
        "id": "Toe-FHBzU1n-"
      },
      "source": [
        "Algorytm:\n",
        "\n",
        "1) Rozpakuj tablicę bajtów $EM$. Jej pierwszy bajt (najbardziej znaczący) przypisz do $Y$. Kolejne $hlen$ bajtów przypisz do $maskedSeed$, resztę do $maskedDB$. Czyli $EM = Y || maskedSeed || maskedDB$.\n",
        "\n",
        "2) Oblicz: $lHash = H(\"\")$.\n",
        "\n",
        "3) Oblicz: $seedMask = mgf1(maskedDB, hlen)$.\n",
        "\n",
        "4) Oblicz: $seed = maskedSeed ⊕ seedMask$.\n",
        "\n",
        "5) Oblicz: $dbMask = mgf1(seed, k - hlen - 1)$.\n",
        "\n",
        "6) Oblicz: $DB = maskedDB ⊕ dbMask$.\n",
        "\n",
        "7) Rozpkauj tablicę bakjtów $DB$. Pierwsze (najbardziej znaczące) $hlen$ bajtów przypisz do zmiennej $lHash'$. Następne $k - mlen - 2*hlen - 2$ bajtów do PS. Kolejny pojedynczy bajt powinien wynosić 0x01, jeżeli jest inaczej zwróć błąd i **zakończ działanie**. Resztę bajtów przypsiz do zmiennej $M$. Czyli: $DB = lHash' || PS || 0x01 || M$. \n",
        "\n",
        "8) Jeżeli $Y \\neq 0x00$ zwróć błąd i **zakończ działanie**.\n",
        "\n",
        "9) Jeżeli $lHash \\neq lHash'$ zwróć błąd i **zakończ działanie**.\n",
        "\n",
        "10) Zwróc $M$."
      ]
    },
    {
      "cell_type": "markdown",
      "metadata": {
        "id": "A0yx2wepX4n1"
      },
      "source": [
        "**Zadanie 6**\n",
        "\n",
        "Zaproogramuj kodowanie i dekodowanie OAEP. Zmodyfikuj algorytm szyfrowania RSA, tak, aby przed zaszyfrowaniem wiadomość była paddingowana. Zmodyfikuj algorytm deszyfrowania tak, aby po zdeszyfrowaniu konieczne było wywołanie metody dekodowania OAEP w celu odzyskania wiadomości."
      ]
    },
    {
      "cell_type": "code",
      "execution_count": 212,
      "metadata": {},
      "outputs": [],
      "source": [
        "import Crypto.Random as cr"
      ]
    },
    {
      "cell_type": "code",
      "execution_count": 213,
      "metadata": {
        "id": "sA1oCpziYT6z"
      },
      "outputs": [],
      "source": [
        "M = \"Ala ma kota\"\n",
        "hlen = 256 // 8\n",
        "\n",
        "def oaep_encode(k, m):\n",
        "\n",
        "    if isinstance(m, str):\n",
        "        m = m.encode()\n",
        "        \n",
        "    mlen = len(m)\n",
        "\n",
        "    if mlen > (k - 2 * hlen - 2):\n",
        "        raise ValueError(\"Error mlen > k - 2 * hlen - 2\")\n",
        "    \n",
        "    lHash = hl.sha256(b\"\").digest()\n",
        "\n",
        "    ps = bytearray(k - mlen - 2 * hlen - 2)\n",
        "\n",
        "    db = lHash + ps + b'\\x01' + m\n",
        "\n",
        "    if len(db) != (k - hlen - 1) :\n",
        "        raise ValueError(\"Error len(db) != (k - hlen - 1)\")\n",
        "\n",
        "    seed = cr.get_random_bytes(hlen)\n",
        "\n",
        "    dbMask = mgf1(seed, k - hlen - 1)\n",
        "\n",
        "    maskedDB = bytearray([db[i] ^ dbMask[i] for i in range(len(db))])\n",
        "\n",
        "    seedMask = mgf1(maskedDB, hlen)\n",
        "\n",
        "    maskedSeed = bytearray([seed[i] ^ seedMask[i] for i in range(len(seed))])\n",
        "\n",
        "    em = b'\\x00' + maskedSeed + maskedDB\n",
        "\n",
        "    if len(em) != k :\n",
        "        raise ValueError(\"Error len(em) != k\")\n",
        "\n",
        "    return em\n",
        "\n"
      ]
    },
    {
      "cell_type": "code",
      "execution_count": 214,
      "metadata": {},
      "outputs": [
        {
          "data": {
            "text/plain": [
              "b'\\x00\\xf0P\\xacBm\\x16\\x14\\x97\\x17\\xde=\\xf6$}iR\\x9f\\xbc\\xc3\\x93\\x06\\x95*q\\xb6\\x18\\x14\\xb3V\\x82\\x03oI3\\x9a\\x077\\xf9\\x86\\x94Y\\x7f\\xfe\\xfd=\\x8a\\x9a\\x91{\\xe4\\xfe\\x85\\xf6\\x0f\\xfcI\\xaa\\xac7\\xf2\\xdb3\\xb0\\x04\\xa5\\xf9\\x06w\\xa7\\xbdm\\x13\\xa4!d\\xf0 \\xbeMK\\x00\\x14Uzq\\xd8\\xd3\\xecd-\\xb5\\xa4^\\xa3\\xe0Z\\xb1j\\x14'"
            ]
          },
          "execution_count": 214,
          "metadata": {},
          "output_type": "execute_result"
        }
      ],
      "source": [
        "k = 100\n",
        "M= 'Ala ma kota'\n",
        "message_encoded = oaep_encode(k, M)\n",
        "message_encoded"
      ]
    },
    {
      "cell_type": "code",
      "execution_count": 215,
      "metadata": {},
      "outputs": [],
      "source": [
        "def oaep_decode(k, em):\n",
        "\n",
        "    y = em[0]\n",
        "    \n",
        "    if y != 0:\n",
        "        raise ValueError(\"Error y != 0\")\n",
        "    \n",
        "    maskedSeed = em[1:hlen+1]\n",
        "    maskedDB = em[hlen+1:]\n",
        "\n",
        "    lHash = hl.sha256(b\"\").digest()\n",
        "\n",
        "    seedMask = mgf1(maskedDB, hlen)\n",
        "\n",
        "    seed = bytearray([maskedSeed[i] ^ seedMask[i] for i in range(len(maskedSeed))])\n",
        "\n",
        "    dbMask = mgf1(seed, k - hlen - 1)\n",
        "\n",
        "    db = bytearray([maskedDB[i] ^ dbMask[i] for i in range(len(maskedDB))])\n",
        "    \n",
        "    lHashPrim = db[:hlen]\n",
        "    db = db[hlen:] #kolejne bajty\n",
        "\n",
        "    i = 0\n",
        "    while db[i] != 1: \n",
        "        i += 1\n",
        "    \n",
        "    if db[i] == 1: \n",
        "        i += 1\n",
        "    \n",
        "    m = db[i:]\n",
        "    \n",
        "    if lHash != lHashPrim:\n",
        "        raise ValueError(\"Error lHash != lHashPrim\")\n",
        "    return m"
      ]
    },
    {
      "cell_type": "code",
      "execution_count": 216,
      "metadata": {},
      "outputs": [
        {
          "name": "stdout",
          "output_type": "stream",
          "text": [
            "Ala ma kota\n"
          ]
        }
      ],
      "source": [
        "message_decoded = oaep_decode(k, message_encoded).decode()\n",
        "print(message_decoded)"
      ]
    },
    {
      "cell_type": "code",
      "execution_count": 218,
      "metadata": {},
      "outputs": [
        {
          "name": "stdout",
          "output_type": "stream",
          "text": [
            "Encryption: b'\\r\\xa8\\x92\\xba\\x91\\xf4\\xe2v\\xec\\xd1\\x02i\\xda\\\\e\\x1d\\rv\\x95\\xadm\\x05\\xdb\\x10\\xf8\\x10\\xda\\xd8\\xac\\xcf\\x1bb\\xd8vh\\xad\\xa6\\xfc\\t\\xd8\\x9f(1\\xd4\\x06\\xe2:\\xe8~\\x80w\\xdd?k\\x01\\xcc\\xc4\\x15\\x14 \\x88\\xfat%\\x1f\\x88\\xc3\\xac\\xb3\\x1a\\xf5\\xb9i\\xb5\\xf4VkK\\neqi\\xdd\\xa3\\xb2\\x94\\x86W(\\xc3\\xe1\\xb7-\\xb3{\\x1cd\\xc5<lr\\x16\\x1c\\xd0\\x00 \\x82o\\xe0\\xf2\\xf2\\xa5\\x8e}.\\xe9\\xd4\\xfd\\xdb\\xd8\\xe0f4E\\xbb/\\x9c\\x06\\xce\\x0bs\\xab[\\xca\\xb8\\x9e\\xfc\\xb6\\xa7:\\xa2\\xd5\\x11\\x92\\x11 \\xb4\\xb2\\xd2eQ\\x1f\\xbc\\x009\\x1a\\x7f\\x81\\xe4@\\x0e\\x84g\\xdao\\xf1+\\xe8\\x8a7\\xea\\xdc\\xf7]\\x1e2~\\x94o\\xc3\\xb2\\x12\\x994c\\xef2\\x0e\\xd6c\\xc6\\x9a\\xc1\\xc1\\x97RN\\xe4\\x0cV\\xa7\\xb5\\x0fT\\x86us\\xdb\\x14\\x81\\xdc\\x13\\xcb<\\xc0-Dz\\xb7\\x81\\r\\xa1#\\x882~[d\\x9aU\\x1a\\xac2*\\x89\\xcfI#\\xdf\\xd6T2k\\xc1A\\xff\\xc4Ts\\x8608\\xf9w\\x03\\xb8'\n"
          ]
        }
      ],
      "source": [
        "def oaep_encrypte(m, e, n) :\n",
        "    k = math.ceil(n.bit_length() / 8)\n",
        "    mBytes = oaep_encode(k, m)\n",
        "    mInt = int.from_bytes(mBytes, byteorder='big')\n",
        "    C = pow(mInt,e,n).to_bytes(k, byteorder='big')\n",
        "    return C\n",
        "\n",
        "M = \"Ala ma kota\"\n",
        "c = oaep_encrypte(M, e, n)\n",
        "print(f\"Encryption: {c}\")"
      ]
    },
    {
      "cell_type": "code",
      "execution_count": 219,
      "metadata": {},
      "outputs": [
        {
          "name": "stdout",
          "output_type": "stream",
          "text": [
            "Decryption: bytearray(b'Ala ma kota')\n"
          ]
        }
      ],
      "source": [
        "def oaep_decrypte(c, d, n) :\n",
        "    k = math.ceil(n.bit_length() / 8)\n",
        "    M = pow(int.from_bytes(c, byteorder='big'),d,n)\n",
        "    mBytes = M.to_bytes(k, byteorder=\"big\")#zamiana intow na bajty, gdzie 1 bajt=8bitow\n",
        "    m = oaep_decode(k, mBytes)\n",
        "    return m\n",
        "\n",
        "print(f\"Decryption: {oaep_decrypte(c, d, n)}\")\n"
      ]
    },
    {
      "cell_type": "markdown",
      "metadata": {
        "id": "ug2e_I03YoR1"
      },
      "source": [
        "## EMSA - PSS\n",
        "\n",
        "Utworzenie bezpiecznej sygnatury RSA wymaga zastowania algorytmu *Encoding Method for Signature with Appendix - Probabilistic Signature Scheme* ."
      ]
    },
    {
      "cell_type": "markdown",
      "metadata": {
        "id": "KrWpFTRHZSA7"
      },
      "source": [
        "### EMSA encoding"
      ]
    },
    {
      "cell_type": "markdown",
      "metadata": {
        "id": "bNPN9mqIZT5F"
      },
      "source": [
        "Parametry wejściowe:\n",
        "\n",
        "1) $H$ - funkcja skrótu SHA-256, oraz $hlen$ czyli długość zwracanego skrótu w bajtach.\n",
        "\n",
        "2) $slen$ - długość soli w bajtach, powinna być równa $hlen$.\n",
        "\n",
        "3) $M$ - bajty wiadomości do podpisania.\n",
        "\n",
        "4) $mgf1$ - Mask Generation Function 1.\n",
        "\n",
        "5) $emBits$ - pożądana długość sygnatury w bitach. Jest to najczęściej długość bitowa liczby modulus $n$ pomniejszona o jeden, czyli w naszym przypadku 2047.\n",
        "\n",
        "6) $emlen$ - długość sygnatury w bajtach, równa długości parametru $n$ wyrażonego w bajtach.\n"
      ]
    },
    {
      "cell_type": "markdown",
      "metadata": {
        "id": "6-0Vzuzf_f81"
      },
      "source": [
        "Algorytm:\n",
        "\n",
        "1) Oblicz: $mHash = H(M)$.\n",
        "\n",
        "2) Jeżeli $emlen < hlen + slen + 2$ **zakończ i zwróć błąd**.\n",
        "\n",
        "3) Wygeneruj tablicę losowych bajtów $salt$ o długości $slen$.\n",
        "\n",
        "4) Oblicz: $M' = 0x00 00 00 00 00 00 00 00 || mHash || salt$. Długość $M'$ to $8 + hlen + slen$.\n",
        "\n",
        "5) Oblicz: $mHash' = H(M')$.\n",
        "\n",
        "6) Wygeneruj tablicę $PS$ składającą się z bajtów 0x00 o długości $emlen - slen - hlen - 2$.\n",
        "\n",
        "7) Oblicz: $DB = PS || 0x01 || salt$. Długość $DB$ powinna wynosić $emlen - hlen - 1$ bajtów.\n",
        "\n",
        "8) Oblicz: $dbMask = mgf1(mHash', emlen - hlen - 1)$.\n",
        "\n",
        "9) Oblicz: $maskedDB = DB ⊕ dbMask$.\n",
        "\n",
        "10) Ustaw $8 * emlen - emBits$ **najbardziej znaczących** bitów $maskedDB$ na wartości 0.\n",
        "\n",
        "11) Oblicz: $EM = maskedDB || mHash' || 0xbc$.\n",
        "\n",
        "12) Zwróć $EM$.\n"
      ]
    },
    {
      "cell_type": "markdown",
      "metadata": {
        "id": "HWbbbw1DCGpr"
      },
      "source": [
        "## EMSA decoding"
      ]
    },
    {
      "cell_type": "markdown",
      "metadata": {
        "id": "xR6QyzduCIoc"
      },
      "source": [
        "Parametry wejściowe:\n",
        "\n",
        "1) $H$ - funkcja skrótu SHA-256, oraz $hlen$ czyli długość zwracanego skrótu w bajtach.\n",
        "\n",
        "2) $slen$ - długość soli w bajtach, powinna być równa $hlen$.\n",
        "\n",
        "3) $EM$ - sygnatura wiadomości $M$.\n",
        "\n",
        "4) $M$ - bajty wiadomości do weryfikacji.\n",
        "\n",
        "4) $mgf1$ - Mask Generation Function 1.\n",
        "\n",
        "5) $emBits$ - długość sygnatury w bitach. Jest to najczęściej długość bitowa liczby modulus $n$ pomniejszona o jeden, czyli w naszym przypadku 2047.\n",
        "\n",
        "6) $emlen$ - długość sygnatury w bajtach, równa długości parametru $n$ wyrażonego w bajtach."
      ]
    },
    {
      "cell_type": "markdown",
      "metadata": {
        "id": "MqZUQgT6CspI"
      },
      "source": [
        "Algorytm:\n",
        "\n",
        "1) Oblicz: $mHash = H(M)$.\n",
        "\n",
        "2) Jeżeli $emlen < hlen + slen + 2$ **zakończ i zwróć błąd weryfikacji**.\n",
        "\n",
        "3) Jeżeli ostatni bajt (najmniej znaczący) $EM$ nie ma wartości 0xbc **zakończ i zwróć błąd weryfikacji**.\n",
        "\n",
        "4) Podstaw $emlen - hlen - 1$ najbardziej znaczących bajtów do $maskedDB$ oraz kolejne $hlen$ bajtów do $mHash'$.\n",
        "\n",
        "5) Jeżeli $8 * emlen - emBits$ najbardziej znaczących bitów $maskedDB$ nie ma wartości 0, **zakończ i zwróć błąd weryfikacji**.\n",
        "\n",
        "6) Oblicz: $dbMask = mgf1(mHash', emlen - hlen - 1)$.\n",
        "\n",
        "7) Oblicz: $DB = maskedDB ⊕ dbMask$.\n",
        "\n",
        "8) Ustaw $8 * emlen - emBits$ najbardziej znaczących bitów $DB$ na 0.\n",
        "\n",
        "9) Jeżeli $emlen - hlen - slen - 2$ najbardziej znaczących bajtów $DB$ nie posiada wartości 0x00 lub gdy bajt na pozycji $emlen - hlen - slen - 1$ (licząc od najbardziej znaczącego) nie posiada wartości 0x01 **zakończ i zwróć błąd weryfikacji**.\n",
        "\n",
        "10) Przypisz do zmiennej $salt$ dokładnie $slen$ najmniej znaczących bajtów $DB$.\n",
        "\n",
        "11) Oblicz: $M' = 0x00 00 00 00 00 00 00 00 || mHash || salt$. Długość $M'$ to $8 + hlen + slen$.\n",
        "\n",
        "12) Oblicz $mHash'' = H(M')$.\n",
        "\n",
        "13) Jeżeli $mHash' \\neq mHash''$ **zakończ i zwróć błąd weryfikacji**, w przeciwnym razie **weryfikacja powiodła się**.\n"
      ]
    },
    {
      "cell_type": "markdown",
      "metadata": {
        "id": "wrxJHSkyIvz5"
      },
      "source": [
        "**Zadanie 7**\n",
        "\n",
        "Zaprogramuj kodowanie i dekodowanie EMSA, a następnie popraw algorytmy tworzenia i weryfikacji podpisu cyfrowego RSA. Tworzenie podpisu powinno wyglądać tak, że wiadomość najpierw jest kodowana z wykorzystaniem EMSA, a później tworzony jest popdis z wykorzystaniem klucza prywatnego. Dekodowanie powinno wyglądać tak, że najpierw używany jest klucz publiczny do odtworzenia podpisu EMSA, a następnie wykorzystywane jest dekodowanie EMSA w celu weryfikacji."
      ]
    },
    {
      "cell_type": "code",
      "execution_count": 220,
      "metadata": {
        "id": "S-TbQA4NJrl3"
      },
      "outputs": [
        {
          "name": "stdout",
          "output_type": "stream",
          "text": [
            "Signature: bytearray(b'\\x00\\xb4?\\xeeV\\xb5Zl\\xd2\\xc3\\x02\\x80\\xd8\\x95\\x96Bi\\xc032\\xb5\\t\\x89\\xa9u\\xfe\\x1d\\x03..*\\xda\\xc6\\xb4R\\xe5\\r\\x0e\\x92\\xabd\\x8f\\x0cR\\xf6\\x97\\xe3\\xcc\\xfa&p/w\\x99\\xab\\xc1k\"\\x05\\x7fk$\\xdd=\\xf1\\x10V&&\\xf2\\xe9H\\x90y\\xe7o\\n\\xc9\\x95]^\\xb1\\xd0\\xea\\xcc\\xf42\\x97\\xa4\\x7f\\xe6\\xb7\\xef\\r\\r&u\\x8e\\xda\\xa9U\\xadB\\x97\\xadx\\xd2\\x1e\\x80\\xe0jO\\xbbeE\\xd9\\x92D\\xab0\\x02\\x1c\\xfc\\x84\\x0b\\x01E\\x06I=\\xdd\\xd2\\x96\\xdb\\xa5N\\x8c\\x08b\\xd34\\xf3\\x03\\x02\\xcdZ\\x85I\\xc2\\xcd\\xf6\\xfd\\x83\\x92\\x8d\\xde\\xae\\x13o8E\\'^\\xa9@\\x9cv\\x0b\\xdc\\x9a\\xad\\xbeL\\xd6\\x8fl\\ra\\x19\\xe6ce\\xca\\xeaX\\xab\\xb2\\x7f\\xcf\\xf7\\x82\\xb5=`e=N\\x18C\\xe7J\\x00\\xc1\\xf4\\xda=7=q\\n\\\\;\\x0ea\\xef\\xd4\\xd6\\xe0\\x01\\xe3\\xa57t\\xfb\\x03\\xcf\\xb1\\x1f0\\xb5\\xe9\\xdd(8Z\\xf9\\x93u\\x9cPF\\xbf\\xe8T\\x89\\x9f\\x07\\xcc@\\xdb\\x11\\x7fu\\xc7\\x84\\xbc')\n"
          ]
        }
      ],
      "source": [
        "M = b\"Ala ma podpis\"\n",
        "slen = hlen\n",
        "em_bits = nlen - 1\n",
        "emlen = nlen//8\n",
        "\n",
        "def emsa_encode(m):\n",
        "\n",
        "    m_hash = hl.sha256(m).digest()\n",
        "    if emlen < hlen + slen + 2:\n",
        "        raise ValueError('Error emlen < hlen + slen + 2')\n",
        "    \n",
        "    salt = cr.get_random_bytes(slen)\n",
        "    \n",
        "    m_prime = b\"\\x00\"*8 + m_hash + salt\n",
        "    m_hash_p = hl.sha256(m_prime).digest()\n",
        "    \n",
        "    ps = bytearray(emlen - slen - hlen - 2)\n",
        "    db = ps + b\"\\x01\" + salt\n",
        "    \n",
        "    db_mask = mgf1(m_hash_p, emlen - hlen - 1)\n",
        "\n",
        "    masked_db = bytearray([db[i] ^ db_mask[i] for i in range(len(db))])\n",
        "\n",
        "    masked_db[:8 * emlen - em_bits] = b'\\x00' * (8 * emlen - em_bits)\n",
        "    em = masked_db + m_hash_p + b'\\xbc'\n",
        "    \n",
        "    return em\n",
        "signature = emsa_encode(M)\n",
        "print(f\"\"\"Signature: {signature}\"\"\")"
      ]
    },
    {
      "cell_type": "code",
      "execution_count": 221,
      "metadata": {},
      "outputs": [],
      "source": [
        "def emsa_decode(em, m):\n",
        "\n",
        "    m_hash = hl.sha256(m).digest()\n",
        "    if emlen < hlen + slen + 2:\n",
        "        raise ValueError('Error: emlen < hlen + slen + 2')\n",
        "    \n",
        "    if em[-1] != 0xbc:\n",
        "        return('Error: Verification failed 1')\n",
        "    \n",
        "    masked_db = em[:emlen - hlen - 1]\n",
        "    em = em[emlen - hlen - 1:]\n",
        "    \n",
        "    m_hash_prime = em[:hlen]\n",
        "    em = em[hlen:]\n",
        "\n",
        "    if masked_db[:8 * emlen - em_bits] != b'\\x00' * (8 * emlen - em_bits):\n",
        "        return('Error: Verification failed 2')\n",
        "    \n",
        "    db_mask = mgf1(m_hash_prime, emlen - hlen - 1)\n",
        "\n",
        "    db = bytearray([masked_db[i] ^ db_mask[i] for i in range(len(masked_db))])\n",
        "\n",
        "    db[: 8 * emlen - em_bits] = b'\\x00' * (8 * emlen - em_bits)\n",
        "\n",
        "    if db[:emlen - hlen - slen - 2] != b'\\x00' * (emlen - hlen - slen - 2) or db[emlen - hlen - slen - 2] != 1:\n",
        "        return('Error: Verification failed 3')\n",
        "    \n",
        "    salt = db[-slen:]\n",
        "\n",
        "    m_prime = b'\\x00' * 8 + m_hash + salt\n",
        "\n",
        "    m_hash_prime2 = hl.sha256(m_prime).digest()\n",
        "\n",
        "    if(m_hash_prime != m_hash_prime2):\n",
        "        return('Error: Verification failed 4')\n",
        "    \n",
        "    return('Successfull verification!')"
      ]
    },
    {
      "cell_type": "code",
      "execution_count": 222,
      "metadata": {},
      "outputs": [
        {
          "name": "stdout",
          "output_type": "stream",
          "text": [
            "Signature: Successfull verification!\n"
          ]
        }
      ],
      "source": [
        "signature_decoded = emsa_decode(signature, M)\n",
        "print(f\"\"\"Signature: {signature_decoded}\"\"\")"
      ]
    },
    {
      "cell_type": "code",
      "execution_count": 223,
      "metadata": {},
      "outputs": [
        {
          "name": "stdout",
          "output_type": "stream",
          "text": [
            "M = b'Ala ma podpis'\n",
            "SIG = 4034641175745043300367801028540067845424324172619701322597859295669752835050093856048165437053688440359175490153886491801506780586086523979550025514514507634514754673018206173105833821631920951066675196976523232824399941824689992218362883435064412142951148709773112577868907343573359935336026406774228956480698541317189065869827765423994720084873050524689153366574792785029634686896101369328239684116676838822065822748290602527938213713300945302202750084920806785491951943104217947096984215058545104634705095119874615799212469156110433587817185930184971763754697729263578718401395689563999283305744093556117679899225\n"
          ]
        }
      ],
      "source": [
        "def create_signature_emsa(m) :\n",
        "    h = emsa_encode(m)\n",
        "    h = cu.bytes_to_long(h)\n",
        "    SIG = pow(h,d,n)\n",
        "    return M, SIG,h\n",
        "\n",
        "M = b\"Ala ma podpis\"\n",
        "M,SIG,h = create_signature_emsa(M)\n",
        "print(f\"\"\"M = {M}\\nSIG = {SIG}\"\"\")"
      ]
    },
    {
      "cell_type": "code",
      "execution_count": 224,
      "metadata": {},
      "outputs": [
        {
          "name": "stdout",
          "output_type": "stream",
          "text": [
            "Successfull verification\n"
          ]
        }
      ],
      "source": [
        "def verify_signature_emsa(SIG,h) :\n",
        "    VER = pow(SIG,e,n)\n",
        "    h = emsa_decode(h)\n",
        "    if VER == h :\n",
        "        print(\"Successfull verification\") \n",
        "    else :\n",
        "        print(\"Verification failed\")\n",
        "\n",
        "verify_signature(SIG,h)"
      ]
    },
    {
      "cell_type": "code",
      "execution_count": 225,
      "metadata": {},
      "outputs": [
        {
          "name": "stdout",
          "output_type": "stream",
          "text": [
            "Verification failed\n"
          ]
        }
      ],
      "source": [
        "verify_signature(SIG-1,h)"
      ]
    },
    {
      "cell_type": "markdown",
      "metadata": {
        "id": "d7txLS64JZI-"
      },
      "source": [
        "## RSA - KEM\n",
        "\n",
        "RSA - KEM, czyli z ang. *Key Encapsulation Mechanism* to prosty algorytm dedykowany do wymiany klucza symetrycznego. Obie strony dysponują uzgodnioną funkcją skótu H. Instancja, która chce **otrzymać** tajny klucz do komunikacji symetrycznej generuje klucze RSA i udostępnia swój klucz publiczny. Instancja, która chce wygenerować tajny klucz do komunikacji symetrycznej dysponuje kluczem publicznym instancji, która chce go otrzymać."
      ]
    },
    {
      "cell_type": "markdown",
      "metadata": {
        "id": "tl7cu30PJ1lk"
      },
      "source": [
        "Instancja generująca klucz symetryczny:\n",
        "\n",
        "1) Znajdź losową liczbę $RAND$ spełniającą warunki OAEP.\n",
        "\n",
        "2) Oblicz: $KEY = H(RAND)$. Jeżeli trzeba, przytnij $KEY$ do odpowiedniej długości.\n",
        "\n",
        "3) Oblicz: $CIPHERED\\_KEY = RSA\\_OAEP\\_ENCODING(KEY, (e, n))$.\n",
        "\n",
        "4) Wyślij $CIPHERED\\_KEY$."
      ]
    },
    {
      "cell_type": "markdown",
      "metadata": {
        "id": "oFB9JAwULw70"
      },
      "source": [
        "Instancja otrzymująca zaszyfrowany klucz symetryczny:\n",
        "\n",
        "1) Oblicz: $KEY = RSA\\_OAEP\\_DECODING(CIPHERED\\_KEY, (d, n))$\n",
        "\n",
        "2) Jeżeli trzeba przytnij $KEY$ do odpowiedniej długości."
      ]
    },
    {
      "cell_type": "markdown",
      "metadata": {
        "id": "386c_pDZMSRG"
      },
      "source": [
        "Np. AES występuje w wersji 128b, 192b i 256b. Jeżeli jako H przyjmiemy więc SHA-256, nie trzeba przycinać klucza dla algorytmu AES-256. W przeciwnym razie należy klucz odpowiednio przyciąć (z lewej lub prawej, byle obie strony tak samo) i to ta wartość staje się kluczem symetrycznym."
      ]
    },
    {
      "cell_type": "markdown",
      "metadata": {
        "id": "7N66NPBBMpLS"
      },
      "source": [
        "**Zadanie 8**\n",
        "\n",
        "Zasymuluj takową wymianę (bez przycinania klucza)."
      ]
    },
    {
      "cell_type": "code",
      "execution_count": 226,
      "metadata": {},
      "outputs": [
        {
          "name": "stdout",
          "output_type": "stream",
          "text": [
            "b'5\\xaf-\\x15\\xeb\\xdeMg\\xb2\\x95i\\xec\\x19t\\x9e\\x81<v\\xf0\"\\x86\\xaf\\xc5\\xa2\\xa9\\x87\\x1c+\\xfb\\xda\\xab2'\n",
            "bytearray(b'5\\xaf-\\x15\\xeb\\xdeMg\\xb2\\x95i\\xec\\x19t\\x9e\\x81<v\\xf0\"\\x86\\xaf\\xc5\\xa2\\xa9\\x87\\x1c+\\xfb\\xda\\xab2')\n"
          ]
        }
      ],
      "source": [
        "def encrypt_kem(e,n):\n",
        "    rand = cr.get_random_bytes(1)\n",
        "    key = hl.sha256(rand).digest()\n",
        "    ciphered_key = oaep_encrypte(key,  e, n)\n",
        "    return ciphered_key, key\n",
        "\n",
        "def decrypt_kem(ciphered_key, d, n):\n",
        "    key = oaep_decrypte(ciphered_key,  d, n)\n",
        "    return key\n",
        "\n",
        "ciphered_key, key = encrypt_kem(e,n)\n",
        "print(key)\n",
        "print(decrypt_kem(ciphered_key, d, n))"
      ]
    }
  ],
  "metadata": {
    "colab": {
      "provenance": []
    },
    "kernelspec": {
      "display_name": "Python 3",
      "name": "python3"
    },
    "language_info": {
      "codemirror_mode": {
        "name": "ipython",
        "version": 3
      },
      "file_extension": ".py",
      "mimetype": "text/x-python",
      "name": "python",
      "nbconvert_exporter": "python",
      "pygments_lexer": "ipython3",
      "version": "3.9.13"
    }
  },
  "nbformat": 4,
  "nbformat_minor": 0
}
